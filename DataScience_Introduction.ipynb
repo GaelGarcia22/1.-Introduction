{
 "cells": [
  {
   "cell_type": "markdown",
   "id": "4c385302",
   "metadata": {},
   "source": [
    "Finding Key Connectors\n",
    "\n",
    "It’s your first day on the job at DataSciencester, and the VP of Networking is full of questions about your users. Until now he’s had no one to ask, so he’s very excited to have you aboard.\n",
    "\n",
    "In particular, he wants you to identify who the “key connectors” are among data scientists. To this end, he gives you a dump of the entire DataSciencester network. (In real life, people don’t typically hand you the data you need. Chapter 9 is devoted to getting data.)\n",
    "\n",
    "What does this data dump look like? It consists of a list of users, each represented by a dict that contains that user’s id (which is a number) and name (which, in one of the great cosmic coincidences, rhymes with the user’s id):"
   ]
  },
  {
   "cell_type": "code",
   "execution_count": 1,
   "id": "1e7186e7",
   "metadata": {},
   "outputs": [],
   "source": [
    "users = [\n",
    "    { 'id': 0, 'name': 'Hero' },\n",
    "    { 'id': 1, 'name': 'Dunn' },\n",
    "    { 'id': 2, 'name': 'Sue' },\n",
    "    { 'id': 3, 'name': 'Chi' },\n",
    "    { 'id': 4, 'name': 'Thor' },\n",
    "    { 'id': 5, 'name': 'Clive' },\n",
    "    { 'id': 6, 'name': 'Hicks' },\n",
    "    { 'id': 7, 'name': 'Devin' },\n",
    "    { 'id': 8, 'name': 'Kate' },\n",
    "    { 'id': 9, 'name': 'Klein' }\n",
    "]"
   ]
  },
  {
   "cell_type": "markdown",
   "id": "4d52072d",
   "metadata": {},
   "source": [
    "He also gives you the “friendship” data, represented as a list of pairs of IDs:"
   ]
  },
  {
   "cell_type": "code",
   "execution_count": 2,
   "id": "be34e52d",
   "metadata": {},
   "outputs": [],
   "source": [
    "friendship_pairs = [(0, 1), (0, 2), (1, 2), (1, 3), (2, 3), (3, 4),\n",
    "                    (4, 5), (5, 6), (5, 7), (6, 8), (7, 8), (8, 9)]"
   ]
  },
  {
   "cell_type": "markdown",
   "id": "86e00f5d",
   "metadata": {},
   "source": [
    "For example, the tuple (0, 1) indicates that the data scientist with id 0 (Hero) and the data scientist with id 1 (Dunn) are friends. The network is illustrated in Figure 1-1."
   ]
  },
  {
   "cell_type": "markdown",
   "id": "6c0b9629",
   "metadata": {},
   "source": [
    "Having friendships represented as a list of pairs is not the easiest way to work with them. To find all the friendships for user 1, you have to iterate over every pair looking for pairs containing 1. If you had a lot of pairs, this would take a long time.\n",
    "\n",
    "Instead, let’s create a dict where the keys are user ids and the values are lists of friend ids. (Looking things up in a dict is very fast.)"
   ]
  },
  {
   "cell_type": "markdown",
   "id": "b4f283c4",
   "metadata": {},
   "source": [
    "We’ll still have to look at every pair to create the dict, but we only have to do that once, and we’ll get cheap lookups after that:"
   ]
  },
  {
   "cell_type": "code",
   "execution_count": 3,
   "id": "dd0c49b2",
   "metadata": {},
   "outputs": [
    {
     "data": {
      "text/plain": [
       "[(0, 1),\n",
       " (0, 2),\n",
       " (1, 2),\n",
       " (1, 3),\n",
       " (2, 3),\n",
       " (3, 4),\n",
       " (4, 5),\n",
       " (5, 6),\n",
       " (5, 7),\n",
       " (6, 8),\n",
       " (7, 8),\n",
       " (8, 9)]"
      ]
     },
     "execution_count": 3,
     "metadata": {},
     "output_type": "execute_result"
    }
   ],
   "source": [
    "friendships = {user['id']: [] for user in users}\n",
    "\n",
    "for i, j in friendship_pairs:\n",
    "    friendships[i].append(j)\n",
    "    friendships[j].append(j)\n",
    "\n",
    "friendship_pairs"
   ]
  },
  {
   "cell_type": "markdown",
   "id": "e562a2e9",
   "metadata": {},
   "source": [
    "Now that we have the friendships in a dict, we can easily ask questions of our graph, like “What’s the average number of connections?”\n",
    "\n",
    "First we find the total number of connections, by summing up the lengths of all the friends lists:"
   ]
  },
  {
   "cell_type": "code",
   "execution_count": 4,
   "id": "56c69730",
   "metadata": {},
   "outputs": [
    {
     "data": {
      "text/plain": [
       "24"
      ]
     },
     "execution_count": 4,
     "metadata": {},
     "output_type": "execute_result"
    }
   ],
   "source": [
    "def number_of_friends(user):\n",
    "    user_id = user['id']\n",
    "    friend_ids = friendships[user_id]\n",
    "    return len(friend_ids)\n",
    "\n",
    "total_connections = sum(number_of_friends(user) for user in users)\n",
    "total_connections"
   ]
  },
  {
   "cell_type": "markdown",
   "id": "d84227ed",
   "metadata": {},
   "source": [
    "And then we just divide by the number of users:"
   ]
  },
  {
   "cell_type": "code",
   "execution_count": 5,
   "id": "fd68b4b9",
   "metadata": {},
   "outputs": [
    {
     "data": {
      "text/plain": [
       "2.4"
      ]
     },
     "execution_count": 5,
     "metadata": {},
     "output_type": "execute_result"
    }
   ],
   "source": [
    "num_users = len(users)\n",
    "avg_connections = total_connections / num_users\n",
    "avg_connections"
   ]
  },
  {
   "cell_type": "markdown",
   "id": "d810afe4",
   "metadata": {},
   "source": [
    "It’s also easy to find the most connected people—they’re the people who have the largest numbers of friends.\n",
    "\n",
    "Since there aren’t very many users, we can simply sort them from “most friends” to “least friends”:"
   ]
  },
  {
   "cell_type": "code",
   "execution_count": 6,
   "id": "e0452add",
   "metadata": {},
   "outputs": [
    {
     "data": {
      "text/plain": [
       "[(1, 3),\n",
       " (2, 3),\n",
       " (3, 3),\n",
       " (5, 3),\n",
       " (8, 3),\n",
       " (0, 2),\n",
       " (4, 2),\n",
       " (6, 2),\n",
       " (7, 2),\n",
       " (9, 1)]"
      ]
     },
     "execution_count": 6,
     "metadata": {},
     "output_type": "execute_result"
    }
   ],
   "source": [
    "num_friends_by_id = [(user['id'], number_of_friends(user))for user in users]\n",
    "\n",
    "num_friends_by_id.sort(\n",
    "    key = lambda id_and_friends : id_and_friends[1],\n",
    "    reverse= True\n",
    ")\n",
    "\n",
    "num_friends_by_id"
   ]
  },
  {
   "cell_type": "markdown",
   "id": "e927854a",
   "metadata": {},
   "source": [
    "One way to think of what we’ve done is as a way of identifying people who are somehow central to the network. In fact, what we’ve just computed is the network metric degree centrality (Figure 1-2)."
   ]
  },
  {
   "attachments": {
    "image.png": {
     "image/png": "[encoded data removed]"
    }
   },
   "cell_type": "markdown",
   "id": "f3aac77a",
   "metadata": {},
   "source": [
    "![image.png](attachment:image.png)"
   ]
  },
  {
   "cell_type": "markdown",
   "id": "b79ab904",
   "metadata": {},
   "source": [
    "Data Scientists You May Know\n",
    "\n",
    "While you’re still filling out new-hire paperwork, the VP of Fraternization comes by your desk. She wants to encourage more connections among your members, and she asks you to design a “Data Scientists You May Know” suggester.\n",
    "\n",
    "Your first instinct is to suggest that users might know the friends of their friends. So you write some code to iterate over their friends and collect the friends’ friends:"
   ]
  },
  {
   "cell_type": "code",
   "execution_count": 7,
   "id": "607de87b",
   "metadata": {},
   "outputs": [],
   "source": [
    "def foaf_ids_bad(user):\n",
    "    '''foaf is short for 'friend of a friend' '''\n",
    "    return [foaf_id\n",
    "            for friend_id in friendships[user['id']]\n",
    "            for foaf_id in friendships[friend_id]]"
   ]
  },
  {
   "cell_type": "markdown",
   "id": "1f073c53",
   "metadata": {},
   "source": [
    "When we call this on users[0] (Hero), it produces:"
   ]
  },
  {
   "cell_type": "code",
   "execution_count": 8,
   "id": "a753c43b",
   "metadata": {},
   "outputs": [
    {
     "data": {
      "text/plain": [
       "[1, 2, 3, 2, 2, 3]"
      ]
     },
     "execution_count": 8,
     "metadata": {},
     "output_type": "execute_result"
    }
   ],
   "source": [
    "foaf_ids_bad(users[0])"
   ]
  },
  {
   "cell_type": "markdown",
   "id": "4bd08332",
   "metadata": {},
   "source": [
    "Knowing that people are friends of friends in multiple ways seems like interesting information, so maybe instead we should produce a count of mutual friends. And we should probably exclude people already known to the user:"
   ]
  },
  {
   "cell_type": "code",
   "execution_count": 9,
   "id": "ec2acaf4",
   "metadata": {},
   "outputs": [
    {
     "name": "stdout",
     "output_type": "stream",
     "text": [
      "Counter({5: 1})\n"
     ]
    }
   ],
   "source": [
    "from collections import Counter                   \n",
    "\n",
    "def friends_of_friends(user):\n",
    "    user_id = user['id']\n",
    "    return Counter(\n",
    "        foaf_id\n",
    "        for friend_id in friendships[user_id]     \n",
    "        for foaf_id in friendships[friend_id]     \n",
    "        if foaf_id != user_id                     \n",
    "        and foaf_id not in friendships[user_id]   \n",
    "    )\n",
    "\n",
    "print(friends_of_friends(users[3]))"
   ]
  },
  {
   "cell_type": "markdown",
   "id": "539396a9",
   "metadata": {},
   "source": [
    "This correctly tells Chi (id 3) that she has two mutual friends with Hero (id 0) but only one mutual friend with Clive (id 5).\n",
    "\n",
    "As a data scientist, you know that you also might enjoy meeting users with similar interests. (This is a good example of the “substantive expertise” aspect of data science.) After asking around, you manage to get your hands on this data, as a list of pairs (user_id, interest):"
   ]
  },
  {
   "cell_type": "code",
   "execution_count": 10,
   "id": "c3456b7a",
   "metadata": {},
   "outputs": [],
   "source": [
    "interests = [\n",
    "    (0, 'Hadoop'), (0, 'Big Data'), (0, 'HBase'), (0, 'Java'),\n",
    "    (0, 'Spark'), (0, 'Storm'), (0, 'Cassandra'),\n",
    "    (1, 'NoSQL'), (1, 'MongoDB'), (1, 'Cassandra'), (1, 'HBase'),\n",
    "    (1, 'Postgres'), (2, 'Python'), (2, 'scikit-learn'), (2, 'scipy'),\n",
    "    (2, 'numpy'), (2, 'statsmodels'), (2, 'pandas'), (3, 'R'), (3, 'Python'),\n",
    "    (3, 'statistics'), (3, 'regression'), (3, 'probability'),\n",
    "    (4, 'machine learning'), (4, 'regression'), (4, 'decision trees'),\n",
    "    (4, 'libsvm'), (5, 'Python'), (5, 'R'), (5, 'Java'), (5, 'C++'),\n",
    "    (5, 'Haskell'), (5, 'programming languages'), (6, 'statistics'),\n",
    "    (6, 'probability'), (6, 'mathematics'), (6, 'theory'),\n",
    "    (7, 'machine learning'), (7, 'scikit-learn'), (7, 'Mahout'),\n",
    "    (7, 'neural networks'), (8, 'neural networks'), (8, 'deep learning'),\n",
    "    (8, 'Big Data'), (8, 'artificial intelligence'), (9, 'Hadoop'),\n",
    "    (9, 'Java'), (9, 'MapReduce'), (9, 'Big Data')\n",
    "]"
   ]
  },
  {
   "cell_type": "markdown",
   "id": "09b9bf2a",
   "metadata": {},
   "source": [
    "For example, Hero (id 0) has no friends in common with Klein (id 9), but they share interests in Java and big data.\n",
    "\n",
    "It’s easy to build a function that finds users with a certain interest:"
   ]
  },
  {
   "cell_type": "code",
   "execution_count": 11,
   "id": "00926f0c",
   "metadata": {},
   "outputs": [],
   "source": [
    "def data_scientists_who_like(target_interest):\n",
    "    return[user_id\n",
    "           for user_id, user_interest in interests\n",
    "           if user_interest == target_interest\n",
    "    ]"
   ]
  },
  {
   "cell_type": "markdown",
   "id": "3d652346",
   "metadata": {},
   "source": [
    "This works, but it has to examine the whole list of interests for every search. If we have a lot of users and interests (or if we just want to do a lot of searches), we’re probably better off building an index from interests to users:"
   ]
  },
  {
   "cell_type": "code",
   "execution_count": 12,
   "id": "e20bd5cf",
   "metadata": {},
   "outputs": [],
   "source": [
    "from collections  import defaultdict\n",
    "from collections import Counter\n",
    "\n",
    "user_ids_by_interest = defaultdict(list)\n",
    "\n",
    "for user_id, interest in interests:\n",
    "    user_ids_by_interest[interest].append(user_id)\n",
    "\n",
    "\n",
    "interest_by_user_id = defaultdict(list)\n",
    "\n",
    "for user_id, interest in interests:\n",
    "    interest_by_user_id[user_id].append(interest)\n",
    "\n",
    "\n"
   ]
  },
  {
   "cell_type": "markdown",
   "id": "fd15294f",
   "metadata": {},
   "source": [
    "Now it’s easy to find who has the most interests in common with a given user:\n",
    "\n",
    "    Iterate over the user’s interests.\n",
    "\n",
    "    For each interest, iterate over the other users with that interest.\n",
    "\n",
    "    Keep count of how many times we see each other user.\n",
    "\n",
    "In code:"
   ]
  },
  {
   "cell_type": "code",
   "execution_count": 13,
   "id": "af41db5e",
   "metadata": {},
   "outputs": [],
   "source": [
    "def most_common_interest_with(user):\n",
    "    return Counter(\n",
    "        interested_user_id\n",
    "        for interest in interest_by_user_id[user['id']]\n",
    "        for interested_user_id in user_ids_by_interest[interest]\n",
    "        if interested_user_id != user['id']\n",
    "    )"
   ]
  },
  {
   "cell_type": "markdown",
   "id": "60c99c29",
   "metadata": {},
   "source": [
    "We could then use this to build a richer “Data Scientists You May Know” feature based on a combination of mutual friends and mutual interests. We’ll explore these kinds of applications in Chapter 23."
   ]
  },
  {
   "cell_type": "markdown",
   "id": "0987730c",
   "metadata": {},
   "source": [
    "## Salaries and Experience"
   ]
  },
  {
   "cell_type": "markdown",
   "id": "0885a70a",
   "metadata": {},
   "source": [
    "Right as you’re about to head to lunch, the VP of Public Relations asks if you can provide some fun facts about how much data scientists earn. Salary data is of course sensitive, but he manages to provide you an anonymous dataset containing each user’s salary (in dollars) and tenure as a data scientist (in years):"
   ]
  },
  {
   "cell_type": "code",
   "execution_count": 14,
   "id": "7a2597a7",
   "metadata": {},
   "outputs": [],
   "source": [
    "salaries_and_tenures = [(83000, 8.7), (88000, 8.1),\n",
    "                        (48000, 0.7), (76000, 6),\n",
    "                        (69000, 6.5), (76000, 7.5),\n",
    "                        (60000, 2.5), (83000, 10),\n",
    "                        (48000, 1.9), (63000, 4.2)]"
   ]
  },
  {
   "attachments": {
    "image.png": {
     "image/png": "[encoded data removed]"
    }
   },
   "cell_type": "markdown",
   "id": "c05e8bb0",
   "metadata": {},
   "source": [
    "![image.png](attachment:image.png)"
   ]
  },
  {
   "cell_type": "markdown",
   "id": "49e2c8aa",
   "metadata": {},
   "source": [
    "It seems clear that people with more experience tend to earn more. How can you turn this into a fun fact? Your first idea is to look at the average salary for each tenure:"
   ]
  },
  {
   "cell_type": "code",
   "execution_count": 15,
   "id": "497ebd6d",
   "metadata": {},
   "outputs": [
    {
     "data": {
      "text/plain": [
       "{8.7: 83000.0,\n",
       " 8.1: 88000.0,\n",
       " 0.7: 48000.0,\n",
       " 6: 76000.0,\n",
       " 6.5: 69000.0,\n",
       " 7.5: 76000.0,\n",
       " 2.5: 60000.0,\n",
       " 10: 83000.0,\n",
       " 1.9: 48000.0,\n",
       " 4.2: 63000.0}"
      ]
     },
     "execution_count": 15,
     "metadata": {},
     "output_type": "execute_result"
    }
   ],
   "source": [
    "salary_by_ternure = defaultdict(list)\n",
    "\n",
    "for salary, ternure in salaries_and_tenures:\n",
    "    salary_by_ternure[ternure].append(salary)\n",
    "\n",
    "average_salary_by_tenure = {\n",
    "    tenure: sum(salaries) / len(salaries)\n",
    "    for tenure, salaries in salary_by_ternure.items()\n",
    "}\n",
    "\n",
    "average_salary_by_tenure"
   ]
  },
  {
   "cell_type": "markdown",
   "id": "ac86fc92",
   "metadata": {},
   "source": [
    "This turns out to be not particularly useful, as none of the users have the same tenure, which means we’re just reporting the individual users’ salaries:"
   ]
  },
  {
   "cell_type": "markdown",
   "id": "c5e5a550",
   "metadata": {},
   "source": [
    "It might be more helpful to bucket the tenures:"
   ]
  },
  {
   "cell_type": "code",
   "execution_count": 16,
   "id": "91637783",
   "metadata": {},
   "outputs": [],
   "source": [
    "def tenure_bucket(ternure):\n",
    "    if ternure < 2:\n",
    "        return 'less than two'\n",
    "    elif ternure < 5:\n",
    "        return 'between two and five'\n",
    "    else:\n",
    "        return 'more than five'\n",
    "    \n",
    "    "
   ]
  },
  {
   "cell_type": "markdown",
   "id": "e0377f3e",
   "metadata": {},
   "source": [
    "Then we can group together the salaries corresponding to each bucket:"
   ]
  },
  {
   "cell_type": "code",
   "execution_count": 17,
   "id": "b11ce398",
   "metadata": {},
   "outputs": [
    {
     "data": {
      "text/plain": [
       "defaultdict(list,\n",
       "            {'more than five': [83000, 88000, 76000, 69000, 76000, 83000],\n",
       "             'less than two': [48000, 48000],\n",
       "             'between two and five': [60000, 63000]})"
      ]
     },
     "execution_count": 17,
     "metadata": {},
     "output_type": "execute_result"
    }
   ],
   "source": [
    "salary_by_ternure_bucket = defaultdict(list)\n",
    "\n",
    "for salary , ternure in salaries_and_tenures:\n",
    "    bucket = tenure_bucket(ternure)\n",
    "    salary_by_ternure_bucket[bucket].append(salary)\n",
    "\n",
    "salary_by_ternure_bucket"
   ]
  },
  {
   "cell_type": "markdown",
   "id": "114696c5",
   "metadata": {},
   "source": [
    "And finally compute the average salary for each group:"
   ]
  },
  {
   "cell_type": "code",
   "execution_count": 18,
   "id": "399f5203",
   "metadata": {},
   "outputs": [
    {
     "data": {
      "text/plain": [
       "{'more than five': 79166.66666666667,\n",
       " 'less than two': 48000.0,\n",
       " 'between two and five': 61500.0}"
      ]
     },
     "execution_count": 18,
     "metadata": {},
     "output_type": "execute_result"
    }
   ],
   "source": [
    "average_salary_by_bucket = {\n",
    "    tenure_bucket: sum(salaries) / len(salaries)\n",
    "    for tenure_bucket, salaries in salary_by_ternure_bucket.items()\n",
    "}\n",
    "average_salary_by_bucket"
   ]
  },
  {
   "cell_type": "markdown",
   "id": "eb0e9355",
   "metadata": {},
   "source": [
    "But we chose the buckets in a pretty arbitrary way. What we’d really like is to make some statement about the salary effect—on average—of having an additional year of experience. In addition to making for a snappier fun fact, this allows us to make predictions about salaries that we don’t know"
   ]
  },
  {
   "cell_type": "markdown",
   "id": "31686c6e",
   "metadata": {},
   "source": [
    "## Paid Accounts"
   ]
  },
  {
   "cell_type": "markdown",
   "id": "9421cdd4",
   "metadata": {},
   "source": [
    "When you get back to your desk, the VP of Revenue is waiting for you. She wants to better understand which users pay for accounts and which don’t. (She knows their names, but that’s not particularly actionable information.)\n",
    "\n",
    "You notice that there seems to be a correspondence between years of experience and paid accounts:"
   ]
  },
  {
   "cell_type": "markdown",
   "id": "2968b61d",
   "metadata": {},
   "source": [
    "0.7  paid\n",
    "1.9  unpaid\n",
    "2.5  paid\n",
    "4.2  unpaid\n",
    "6.0  unpaid\n",
    "6.5  unpaid\n",
    "7.5  unpaid\n",
    "8.1  unpaid\n",
    "8.7  paid\n",
    "10.0 paid"
   ]
  },
  {
   "cell_type": "markdown",
   "id": "e3e819d2",
   "metadata": {},
   "source": [
    "Users with very few and very many years of experience tend to pay; users with average amounts of experience don’t. Accordingly, if you wanted to create a model—though this is definitely not enough data to base a model on—you might try to predict “paid” for users with very few and very many years of experience, and “unpaid” for users with middling amounts of experience:"
   ]
  },
  {
   "cell_type": "code",
   "execution_count": 19,
   "id": "b5d04948",
   "metadata": {},
   "outputs": [],
   "source": [
    "def predict_paid_or_unpaid(years_experience):\n",
    "    if years_experience < 3.0:\n",
    "        return 'paid'\n",
    "    elif years_experience < 8.5:\n",
    "        return 'unpaid'\n",
    "    else:\n",
    "        return 'paid'"
   ]
  },
  {
   "cell_type": "markdown",
   "id": "71c1812b",
   "metadata": {},
   "source": [
    "Of course, we totally eyeballed the cutoffs.\n",
    "\n",
    "With more data (and more mathematics), we could build a model predicting the likelihood that a user would pay based on his years of experience. "
   ]
  },
  {
   "cell_type": "markdown",
   "id": "0b0e9008",
   "metadata": {},
   "source": [
    "## Topics of Interest"
   ]
  },
  {
   "cell_type": "markdown",
   "id": "719a9db2",
   "metadata": {},
   "source": [
    "As you’re wrapping up your first day, the VP of Content Strategy asks you for data about what topics users are most interested in, so that she can plan out her blog calendar accordingly. You already have the raw data from the friend-suggester project:"
   ]
  },
  {
   "cell_type": "code",
   "execution_count": 20,
   "id": "54783f94",
   "metadata": {},
   "outputs": [],
   "source": [
    "interests = [\n",
    "    (0, 'Hadoop'), (0, 'Big Data'), (0, 'HBase'), (0, 'Java'),\n",
    "    (0, 'Spark'), (0, 'Storm'), (0, 'Cassandra'),\n",
    "    (1, 'NoSQL'), (1, 'MongoDB'), (1, 'Cassandra'), (1, 'HBase'),\n",
    "    (1, 'Postgres'), (2, 'Python'), (2, 'scikit-learn'), (2, 'scipy'),\n",
    "    (2, 'numpy'), (2, 'statsmodels'), (2, 'pandas'), (3, 'R'), (3, 'Python'),\n",
    "    (3, 'statistics'), (3, 'regression'), (3, 'probability'),\n",
    "    (4, 'machine learning'), (4, 'regression'), (4, 'decision trees'),\n",
    "    (4, 'libsvm'), (5, 'Python'), (5, 'R'), (5, 'Java'), (5, 'C++'),\n",
    "    (5, 'Haskell'), (5, 'programming languages'), (6, 'statistics'),\n",
    "    (6, 'probability'), (6, 'mathematics'), (6, 'theory'),\n",
    "    (7, 'machine learning'), (7, 'scikit-learn'), (7, 'Mahout'),\n",
    "    (7, 'neural networks'), (8, 'neural networks'), (8, 'deep learning'),\n",
    "    (8, 'Big Data'), (8, 'artificial intelligence'), (9, 'Hadoop'),\n",
    "    (9, 'Java'), (9, 'MapReduce'), (9, 'Big Data')\n",
    "]"
   ]
  },
  {
   "cell_type": "markdown",
   "id": "57489e47",
   "metadata": {},
   "source": [
    "One simple (if not particularly exciting) way to find the most popular interests is to count the words:\n",
    "\n",
    "    Lowercase each interest (since different users may or may not capitalize their interests).\n",
    "\n",
    "    Split it into words.\n",
    "\n",
    "    Count the results.\n"
   ]
  },
  {
   "cell_type": "code",
   "execution_count": 21,
   "id": "8f5efa0f",
   "metadata": {},
   "outputs": [
    {
     "data": {
      "text/plain": [
       "Counter({'big': 3,\n",
       "         'data': 3,\n",
       "         'java': 3,\n",
       "         'python': 3,\n",
       "         'learning': 3,\n",
       "         'hadoop': 2,\n",
       "         'hbase': 2,\n",
       "         'cassandra': 2,\n",
       "         'scikit-learn': 2,\n",
       "         'r': 2,\n",
       "         'statistics': 2,\n",
       "         'regression': 2,\n",
       "         'probability': 2,\n",
       "         'machine': 2,\n",
       "         'neural': 2,\n",
       "         'networks': 2,\n",
       "         'spark': 1,\n",
       "         'storm': 1,\n",
       "         'nosql': 1,\n",
       "         'mongodb': 1,\n",
       "         'postgres': 1,\n",
       "         'scipy': 1,\n",
       "         'numpy': 1,\n",
       "         'statsmodels': 1,\n",
       "         'pandas': 1,\n",
       "         'decision': 1,\n",
       "         'trees': 1,\n",
       "         'libsvm': 1,\n",
       "         'c++': 1,\n",
       "         'haskell': 1,\n",
       "         'programming': 1,\n",
       "         'languages': 1,\n",
       "         'mathematics': 1,\n",
       "         'theory': 1,\n",
       "         'mahout': 1,\n",
       "         'deep': 1,\n",
       "         'artificial': 1,\n",
       "         'intelligence': 1,\n",
       "         'mapreduce': 1})"
      ]
     },
     "execution_count": 21,
     "metadata": {},
     "output_type": "execute_result"
    }
   ],
   "source": [
    "words_and_conunts = Counter(word\n",
    "                            for user, interest in interests\n",
    "                            for word in interest.lower().split())\n",
    "\n",
    "words_and_conunts"
   ]
  },
  {
   "cell_type": "markdown",
   "id": "9df8de1c",
   "metadata": {},
   "source": [
    "This makes it easy to list out the words that occur more than once:"
   ]
  },
  {
   "cell_type": "code",
   "execution_count": 22,
   "id": "58cb9e19",
   "metadata": {},
   "outputs": [
    {
     "name": "stdout",
     "output_type": "stream",
     "text": [
      "big 3\n",
      "data 3\n",
      "java 3\n",
      "python 3\n",
      "learning 3\n",
      "hadoop 2\n",
      "hbase 2\n",
      "cassandra 2\n",
      "scikit-learn 2\n",
      "r 2\n",
      "statistics 2\n",
      "regression 2\n",
      "probability 2\n",
      "machine 2\n",
      "neural 2\n",
      "networks 2\n"
     ]
    }
   ],
   "source": [
    "for word, count in words_and_conunts.most_common():\n",
    "    if count > 1:\n",
    "        print(word, count)"
   ]
  }
 ],
 "metadata": {
  "kernelspec": {
   "display_name": "Python 3",
   "language": "python",
   "name": "python3"
  },
  "language_info": {
   "codemirror_mode": {
    "name": "ipython",
    "version": 3
   },
   "file_extension": ".py",
   "mimetype": "text/x-python",
   "name": "python",
   "nbconvert_exporter": "python",
   "pygments_lexer": "ipython3",
   "version": "3.11.5"
  }
 },
 "nbformat": 4,
 "nbformat_minor": 5
}
